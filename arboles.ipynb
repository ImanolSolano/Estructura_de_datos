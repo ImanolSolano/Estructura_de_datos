{
  "nbformat": 4,
  "nbformat_minor": 0,
  "metadata": {
    "colab": {
      "name": "arboles.ipynb",
      "provenance": [],
      "collapsed_sections": [],
      "authorship_tag": "ABX9TyNmr5Ob4wDwaqb1rgG8f3ww",
      "include_colab_link": true
    },
    "kernelspec": {
      "name": "python3",
      "display_name": "Python 3"
    },
    "language_info": {
      "name": "python"
    }
  },
  "cells": [
    {
      "cell_type": "markdown",
      "metadata": {
        "id": "view-in-github",
        "colab_type": "text"
      },
      "source": [
        "<a href=\"https://colab.research.google.com/github/ImanolSolano/Estructura_de_datos/blob/main/arboles.ipynb\" target=\"_parent\"><img src=\"https://colab.research.google.com/assets/colab-badge.svg\" alt=\"Open In Colab\"/></a>"
      ]
    },
    {
      "cell_type": "code",
      "metadata": {
        "id": "fPkpBMAat1AC"
      },
      "source": [
        "class BinaryNode:\n",
        "  def __init__( self, value, left = None, rigth = None ):\n",
        "    self.data = value\n",
        "    self.left = left\n",
        "    self.rigth = rigth"
      ],
      "execution_count": null,
      "outputs": []
    },
    {
      "cell_type": "code",
      "metadata": {
        "id": "Hq8CQqNPusKm"
      },
      "source": [
        "class TernaryNode:\n",
        "  def __init__( self, value, left = None, center = None, rigth = None ):\n",
        "    self.data = value\n",
        "    self.left = left\n",
        "    self.center = center\n",
        "    self.rigth = rigth"
      ],
      "execution_count": null,
      "outputs": []
    },
    {
      "cell_type": "code",
      "metadata": {
        "colab": {
          "base_uri": "https://localhost:8080/"
        },
        "id": "tomurIH2vF01",
        "outputId": "17549e90-dcbd-494d-d86c-cb00d28b8834"
      },
      "source": [
        "root = BinaryNode( \"R\", BinaryNode(\"C\"), BinaryNode(\"H\") )\n",
        "print( root.left.data )"
      ],
      "execution_count": null,
      "outputs": [
        {
          "output_type": "stream",
          "name": "stdout",
          "text": [
            "C\n"
          ]
        }
      ]
    },
    {
      "cell_type": "code",
      "metadata": {
        "colab": {
          "base_uri": "https://localhost:8080/"
        },
        "id": "d7stOrg4wH9d",
        "outputId": "348a11b1-48aa-4697-cd96-33dbd624a397"
      },
      "source": [
        "root = TernaryNode(4,TernaryNode(3,TernaryNode(5,left=TernaryNode(2)),\\\n",
        "                   TernaryNode(5),TernaryNode(2)), None, TernaryNode(5) )\n",
        "print(root.left.left.left.data)\n",
        "print(\"-.-.-.-.-.-.-.-.-.-.-.-.-.-\")\n",
        "aux = root\n",
        "while aux.left != None:\n",
        "  aux = aux.left\n",
        "print(aux.data)\n",
        "print(\"-.-.-.-.-.-.-.-.-.-.-.-.-.-\")\n",
        "print(root.left.rigth.data)"
      ],
      "execution_count": null,
      "outputs": [
        {
          "output_type": "stream",
          "name": "stdout",
          "text": [
            "2\n",
            "-.-.-.-.-.-.-.-.-.-.-.-.-.-\n",
            "2\n",
            "-.-.-.-.-.-.-.-.-.-.-.-.-.-\n",
            "2\n"
          ]
        }
      ]
    }
  ]
}