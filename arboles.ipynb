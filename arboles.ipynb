{
  "nbformat": 4,
  "nbformat_minor": 0,
  "metadata": {
    "colab": {
      "name": "arboles.ipynb",
      "provenance": [],
      "collapsed_sections": [],
      "authorship_tag": "ABX9TyNrNxMku/aXfGuYQh+zLyxl",
      "include_colab_link": true
    },
    "kernelspec": {
      "name": "python3",
      "display_name": "Python 3"
    },
    "language_info": {
      "name": "python"
    }
  },
  "cells": [
    {
      "cell_type": "markdown",
      "metadata": {
        "id": "view-in-github",
        "colab_type": "text"
      },
      "source": [
        "<a href=\"https://colab.research.google.com/github/ImanolSolano/Estructura_de_datos/blob/main/arboles.ipynb\" target=\"_parent\"><img src=\"https://colab.research.google.com/assets/colab-badge.svg\" alt=\"Open In Colab\"/></a>"
      ]
    },
    {
      "cell_type": "code",
      "metadata": {
        "id": "fPkpBMAat1AC"
      },
      "source": [
        "class BinaryNode:\n",
        "  def __init__( self, value, left = None, rigth = None ):\n",
        "    self.data = value\n",
        "    self.left = left\n",
        "    self.rigth = rigth"
      ],
      "execution_count": null,
      "outputs": []
    },
    {
      "cell_type": "code",
      "metadata": {
        "id": "Hq8CQqNPusKm"
      },
      "source": [
        "class TernaryNode:\n",
        "  def __init__( self, value, left = None, center = None, rigth = None ):\n",
        "    self.data = value\n",
        "    self.left = left\n",
        "    self.center = center\n",
        "    self.rigth = rigth"
      ],
      "execution_count": null,
      "outputs": []
    },
    {
      "cell_type": "code",
      "metadata": {
        "colab": {
          "base_uri": "https://localhost:8080/"
        },
        "id": "tomurIH2vF01",
        "outputId": "a533e606-8409-4a16-a1c9-14060dca90fb"
      },
      "source": [
        "root = BinaryNode( \"R\", BinaryNode(\"C\"), BinaryNode(\"H\") )\n",
        "print( root.left.data )"
      ],
      "execution_count": null,
      "outputs": [
        {
          "output_type": "stream",
          "name": "stdout",
          "text": [
            "C\n"
          ]
        }
      ]
    },
    {
      "cell_type": "code",
      "metadata": {
        "colab": {
          "base_uri": "https://localhost:8080/"
        },
        "id": "d7stOrg4wH9d",
        "outputId": "7e5a38fe-6e67-4a1b-a942-d2082d15ca4d"
      },
      "source": [
        "root = TernaryNode(4,TernaryNode(3,TernaryNode(5,left=TernaryNode(2)),\\\n",
        "                   TernaryNode(5),TernaryNode(2)), None, TernaryNode(5) )\n",
        "print(root.left.left.left.data)\n",
        "print(\"-.-.-.-.-.-.-.-.-.-.-.-.-.-\")\n",
        "aux = root\n",
        "while aux.left != None:\n",
        "  aux = aux.left\n",
        "print(aux.data)\n",
        "print(\"-.-.-.-.-.-.-.-.-.-.-.-.-.-\")\n",
        "print(root.left.rigth.data)"
      ],
      "execution_count": null,
      "outputs": [
        {
          "output_type": "stream",
          "name": "stdout",
          "text": [
            "2\n",
            "-.-.-.-.-.-.-.-.-.-.-.-.-.-\n",
            "2\n",
            "-.-.-.-.-.-.-.-.-.-.-.-.-.-\n",
            "2\n"
          ]
        }
      ]
    },
    {
      "cell_type": "code",
      "metadata": {
        "id": "JydKAypPdG8L"
      },
      "source": [
        "class BinaryNode:\n",
        "  def __init__( self, value, left = None, rigth = None ):\n",
        "    self.data = value\n",
        "    self.left = left\n",
        "    self.rigth = rigth\n",
        "\n",
        "class BinarySearchTree:\n",
        "  def __init__( self ):\n",
        "    self.root = None\n",
        "  \n",
        "  def insert( self, value ):\n",
        "    if self.root == None:\n",
        "      self.root = BinaryNode( value )\n",
        "    else:\n",
        "      self. __insert_nodo( self.root, value)\n",
        "  \n",
        "  def __insert_nodo( self, nodo, value ):\n",
        "    if nodo.data == value:\n",
        "      pass\n",
        "    elif value < nodo.data:\n",
        "      if nodo.left == None:\n",
        "        self.left = BinaryNode( value )\n",
        "      else:\n",
        "        self.__insert_nodo( nodo.left, value )\n",
        "    else:\n",
        "      if nodo.rigth == None:\n",
        "        nodo.rigth = BinaryNode( value )\n",
        "      else:\n",
        "        self.__insert_nodo( nodo.rigth, value )\n",
        "  \n",
        "  def transversal( self, formato = \"posorden\"):\n",
        "    if formato == \"posorden\":\n",
        "      self.recorrido_pos( self.root )\n",
        "    elif formato == \"preorden\":\n",
        "      self.recorrido_pre( self.root )\n",
        "    else:\n",
        "      self.recorrido_in( self.root )\n",
        "    print()\n",
        "\n",
        "  def recorrido_pos( self, nodo ):\n",
        "    if nodo != None:\n",
        "      self.recorrido_pos( nodo.left )\n",
        "      self.recorrido_pos( nodo.rigth )\n",
        "      print( str(nodo.data), end=\" , \" )\n",
        "\n",
        "  def recorrido_pre( self, nodo ):\n",
        "    if nodo != None:\n",
        "      print( str(nodo.data), end=\" , \" )\n",
        "      self.recorrido_pre( nodo.left )\n",
        "      self.recorrido_pre( nodo.rigth )\n",
        "\n",
        "  def recorrido_in( self, nodo ):\n",
        "    if nodo != None:\n",
        "      self.recorrido_in( nodo.left )\n",
        "      print( str(nodo.data), end=\" , \" )\n",
        "      self.recorrido_in( nodo.rigth )\n",
        "\n",
        "  def search( self, value ):\n",
        "    if self.root == None:\n",
        "      print(\"El árbol se encuentra vacio :) \")\n",
        "      return None\n",
        "    else:\n",
        "      return self.__search( self.root, value )\n",
        "  \n",
        "  def __search( self, nodo, value ):\n",
        "    if nodo == None:\n",
        "      print(\"El dato no existe en el árbol :) \")\n",
        "      return None\n",
        "    elif nodo.data == value:\n",
        "      print(\"Encontrado\", nodo.data)\n",
        "      return nodo\n",
        "    elif value < nodo.data:\n",
        "      return self.__buscar( nodo.left, value )\n",
        "    else:\n",
        "      return self.__buscar( nodo.rigth, value )"
      ],
      "execution_count": null,
      "outputs": []
    },
    {
      "cell_type": "code",
      "metadata": {
        "id": "KTZrTQ-KjuXe",
        "colab": {
          "base_uri": "https://localhost:8080/",
          "height": 86
        },
        "outputId": "59040415-056c-46ff-ecbc-a7c3ba64d03e"
      },
      "source": [
        "arb1 =BinarySearchTree()\n",
        "arb1.insert(60)\n",
        "arb1.insert(30)\n",
        "arb1.insert(15)\n",
        "arb1.insert(40)\n",
        "arb1.transversal(\"posorden\")\n",
        "arb1.transversal(\"preorden\")\n",
        "arb1.transversal(\"inorden\")\n",
        "\n",
        "\"\"\"\n",
        "print(arb1.search(110))\n",
        "print(arb1.search(15))\n",
        "res = arb1.search(30)\n",
        "print(res.left.data)\n",
        "\"\"\"\n"
      ],
      "execution_count": null,
      "outputs": [
        {
          "output_type": "stream",
          "name": "stdout",
          "text": [
            "60 , \n",
            "60 , \n",
            "60 , \n"
          ]
        },
        {
          "output_type": "execute_result",
          "data": {
            "application/vnd.google.colaboratory.intrinsic+json": {
              "type": "string"
            },
            "text/plain": [
              "'\\nprint(arb1.search(110))\\nprint(arb1.search(15))\\nres = arb1.search(30)\\nprint(res.left.data)\\n'"
            ]
          },
          "metadata": {},
          "execution_count": 16
        }
      ]
    }
  ]
}