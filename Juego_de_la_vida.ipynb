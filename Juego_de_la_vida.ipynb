{
  "nbformat": 4,
  "nbformat_minor": 0,
  "metadata": {
    "colab": {
      "name": "Juego_de_la_vida.ipynb",
      "provenance": [],
      "collapsed_sections": [],
      "authorship_tag": "ABX9TyOk5f/zrsMazJWX+kx7NS5+",
      "include_colab_link": true
    },
    "kernelspec": {
      "name": "python3",
      "display_name": "Python 3"
    },
    "language_info": {
      "name": "python"
    }
  },
  "cells": [
    {
      "cell_type": "markdown",
      "metadata": {
        "id": "view-in-github",
        "colab_type": "text"
      },
      "source": [
        "<a href=\"https://colab.research.google.com/github/ImanolSolano/Estructura_de_datos/blob/main/Juego_de_la_vida.ipynb\" target=\"_parent\"><img src=\"https://colab.research.google.com/assets/colab-badge.svg\" alt=\"Open In Colab\"/></a>"
      ]
    },
    {
      "cell_type": "code",
      "metadata": {
        "id": "hYUFoqrUC1fL",
        "colab": {
          "base_uri": "https://localhost:8080/"
        },
        "outputId": "d936fe42-e9a9-4d2a-da07-11570204e134"
      },
      "source": [
        "!pip install simple_chalk"
      ],
      "execution_count": null,
      "outputs": [
        {
          "output_type": "stream",
          "name": "stdout",
          "text": [
            "Requirement already satisfied: simple_chalk in /usr/local/lib/python3.7/dist-packages (0.1.0)\n"
          ]
        }
      ]
    },
    {
      "cell_type": "code",
      "metadata": {
        "id": "trrIwnHB-BJQ"
      },
      "source": [
        "class Array2D():\n",
        "\n",
        "  def __init__(self, ren, col):\n",
        "    self.__columnas = col\n",
        "    self.__renglones = ren\n",
        "    self.__data = [[ 0 for i in range(col)]for i in range (ren)]\n",
        "\n",
        "  def to_string(self):\n",
        "    for i in range(self.__renglones):\n",
        "      print(self.__data[i])\n",
        "\n",
        "  def clear(self, dato):\n",
        "    for i in range (self.__renglones):\n",
        "      for x in range(self.__columnas):\n",
        "        self.__data[i][x] = dato\n",
        "\n",
        "  def get_row_size(self):\n",
        "    return self.__renglones\n",
        "\n",
        "  def get_col_size(self):\n",
        "    return self.__columnas\n",
        "\n",
        "  def set_item(self,ren,col,dato):\n",
        "    self.__data[ren][col] = dato\n",
        "\n",
        "  def get_item(self,ren,col):\n",
        "    return self.__data[ren][col]"
      ],
      "execution_count": null,
      "outputs": []
    },
    {
      "cell_type": "code",
      "metadata": {
        "colab": {
          "base_uri": "https://localhost:8080/"
        },
        "id": "-7aEq32T-Gz9",
        "outputId": "5238ff76-b8ca-4bc7-aefb-82e414ef7a72"
      },
      "source": [
        "print(\"--- COMIENZA EL JUEGO --- \\n\")\n",
        "tablero = Array2D( 6 , 5 )\n",
        "tablero.to_string()\n",
        "tablero.clear(\"M\")\n",
        "\n",
        "print(\"\\n --- POBLACIÓN INICIAL --- \\n\")\n",
        "tablero.to_string()\n",
        "\n",
        "print(\"\\n --- CAMBIAR ESTADO DE UNA CELULA ---\\n\")\n",
        "poblacion_inicial = [( 2 , 2 ), ( 3 , 1 ), ( 3 , 2 ), ( 3 , 3 )]\n",
        "for par in poblacion_inicial:\n",
        "  tablero.set_item( par[0], par[1], 'V' )\n",
        "tablero.to_string()\n",
        "\n",
        "print(\"\\nEste tablero cuenta con \" , tablero.get_col_size() , \" columnas\")\n",
        "\n",
        "print(\"\\nEste tablero cuenta con \" , tablero.get_row_size() , \" filas\")\n",
        "\n",
        "celula = tablero.get_item(2,1)\n",
        "print(\"\\nEsta celula se encuentra: \", celula)\n",
        "\n",
        "celula = tablero.get_item(2,2)\n",
        "print(\"\\nEsta celula se encuentra: \", celula)\n",
        "\n",
        "\n",
        "#Esto no se debe de hacer, ya que es dificil de dar mantenimiento"
      ],
      "execution_count": null,
      "outputs": [
        {
          "output_type": "stream",
          "name": "stdout",
          "text": [
            "--- COMIENZA EL JUEGO --- \n",
            "\n",
            "[0, 0, 0, 0, 0]\n",
            "[0, 0, 0, 0, 0]\n",
            "[0, 0, 0, 0, 0]\n",
            "[0, 0, 0, 0, 0]\n",
            "[0, 0, 0, 0, 0]\n",
            "[0, 0, 0, 0, 0]\n",
            "\n",
            " --- POBLACIÓN INICIAL --- \n",
            "\n",
            "['M', 'M', 'M', 'M', 'M']\n",
            "['M', 'M', 'M', 'M', 'M']\n",
            "['M', 'M', 'M', 'M', 'M']\n",
            "['M', 'M', 'M', 'M', 'M']\n",
            "['M', 'M', 'M', 'M', 'M']\n",
            "['M', 'M', 'M', 'M', 'M']\n",
            "\n",
            " --- CAMBIAR ESTADO DE UNA CELULA ---\n",
            "\n",
            "['M', 'M', 'M', 'M', 'M']\n",
            "['M', 'M', 'M', 'M', 'M']\n",
            "['M', 'M', 'V', 'M', 'M']\n",
            "['M', 'V', 'V', 'V', 'M']\n",
            "['M', 'M', 'M', 'M', 'M']\n",
            "['M', 'M', 'M', 'M', 'M']\n",
            "\n",
            "Este tablero cuenta con  5  columnas\n",
            "\n",
            "Este tablero cuenta con  6  filas\n",
            "\n",
            "Esta celula se encuentra:  M\n",
            "\n",
            "Esta celula se encuentra:  V\n"
          ]
        }
      ]
    },
    {
      "cell_type": "markdown",
      "metadata": {
        "id": "_U3GmyDSJUdm"
      },
      "source": [
        "##¿Como deberia programarse el juego de la vida?\n",
        "\n",
        "## R.- Programar un ADT especifico para empaquetar la lógica del juego de la vida. "
      ]
    },
    {
      "cell_type": "code",
      "metadata": {
        "id": "RNd4t1TOJgy1"
      },
      "source": [
        "\n",
        "class juego_de_la_vida_ADT:\n",
        "  def __init__(self, rens, cols, lista_pob_inicial, generaciones):\n",
        "    self.tablero = Array2D( rens, cols )\n",
        "    self.generaciones = generaciones\n",
        "    self.gen = 1\n",
        "    self.tablero.clear( 'M' )\n",
        "    for par in lista_pob_inicial:\n",
        "      self.tablero.set_item( par[0], par[1], 'v' )\n",
        "  \n",
        "  def to_string( self ):\n",
        "    print(f\"--- GENERACIÓN { self.gen } ---\")\n",
        "    self.tablero.to_string()\n",
        "\n",
        "  def get_vecinos( r , c ):\n",
        "    vecinos = []\n",
        "    for ren in range( r-1 , r+2, 1 ):\n",
        "      for vol in range ( c-1, c+2, 1 ):\n",
        "        if ren < 0 or ren >= self.tablero.get_row_size() or col < 0 or col >= self.tablero.get_col_size() or (ren==r and col==c):\n",
        "          pass\n",
        "        else: \n",
        "          vecinos.append((ren,col))\n",
        "    return vecinos\n",
        "\n",
        "  def get_vecinos_vivos( self, r, c ):\n",
        "    vivos = 0\n",
        "    vecinos = self.get_vecinos(r, c)\n",
        "    for par in vecinos:\n",
        "      if self.tablero.get_item(par(0), par(1)) == 'V':\n",
        "        vivos += 1\n",
        "    return vivos \n",
        "\n",
        "  def aplicar_Reglas( self ):\n",
        "    nuevo_estado = []\n",
        "    for cor in self.cors:\n",
        "      vivos = self.vecinosVivos( cor[0], cor[1] )\n",
        "      estado = self.tablero.get_item( cor[0], cor[1] )\n",
        "      print(estado)\n",
        "      print(vivos)\n",
        "      if estado == 'V':\n",
        "        if vivos == 2 or vivos == 3:\n",
        "          nuevo_estado.append('V')\n",
        "        elif vivos == 1 or vivos == 0:\n",
        "          nuevo_estado.append('M')\n",
        "        elif vivos >= 4 :\n",
        "          nuevo_estado.append('M')\n",
        "        elif estado  == 'M':\n",
        "          if vivos == 3 :\n",
        "            nuevo_estado.append('V')\n",
        "          else:\n",
        "            nuevo_estado.append('M')\n",
        "            print(nuevo_estado)\n",
        "      for cor in self.cors:\n",
        "        self.tablero.set_item( cor[0], cor[1] ,nuevo_estado[0])\n",
        "        nuevo_estado.pop( 0 )\n",
        "      self.gen += 1"
      ],
      "execution_count": 5,
      "outputs": []
    },
    {
      "cell_type": "markdown",
      "metadata": {
        "id": "d3qShzu-7wyO"
      },
      "source": [
        "\n"
      ]
    },
    {
      "cell_type": "code",
      "metadata": {
        "colab": {
          "base_uri": "https://localhost:8080/",
          "height": 373
        },
        "id": "qwJQBZbvMStN",
        "outputId": "4e517b93-434c-4a14-e9ec-2a6670aa9774"
      },
      "source": [
        "juego = juego_de_la_vida_ADT( 6 , 5 , [(2,2),(3,1),(3,2),(3,3)] , 5 )\n",
        "juego.to_string()\n",
        "print(\" ---Vecinos de (5,4)--- \")\n",
        "print(juego.get_vecinos(3,3))\n",
        "r=0\n",
        "c=0\n",
        "print(f\"--- Vecinos vivos de {r}, {c} son {juego.get_vecinos_vivos(r,c)} ---\")\n"
      ],
      "execution_count": null,
      "outputs": [
        {
          "output_type": "stream",
          "name": "stdout",
          "text": [
            "--- GENERACIÓN 1 ---\n",
            "['M', 'M', 'M', 'M', 'M']\n",
            "['M', 'M', 'M', 'M', 'M']\n",
            "['M', 'M', 'v', 'M', 'M']\n",
            "['M', 'v', 'v', 'v', 'M']\n",
            "['M', 'M', 'M', 'M', 'M']\n",
            "['M', 'M', 'M', 'M', 'M']\n",
            " ---Vecinos de (5,4)--- \n"
          ]
        },
        {
          "output_type": "error",
          "ename": "TypeError",
          "evalue": "ignored",
          "traceback": [
            "\u001b[0;31m---------------------------------------------------------------------------\u001b[0m",
            "\u001b[0;31mTypeError\u001b[0m                                 Traceback (most recent call last)",
            "\u001b[0;32m<ipython-input-46-fb5b4a913135>\u001b[0m in \u001b[0;36m<module>\u001b[0;34m()\u001b[0m\n\u001b[1;32m      2\u001b[0m \u001b[0mjuego\u001b[0m\u001b[0;34m.\u001b[0m\u001b[0mto_string\u001b[0m\u001b[0;34m(\u001b[0m\u001b[0;34m)\u001b[0m\u001b[0;34m\u001b[0m\u001b[0;34m\u001b[0m\u001b[0m\n\u001b[1;32m      3\u001b[0m \u001b[0mprint\u001b[0m\u001b[0;34m(\u001b[0m\u001b[0;34m\" ---Vecinos de (5,4)--- \"\u001b[0m\u001b[0;34m)\u001b[0m\u001b[0;34m\u001b[0m\u001b[0;34m\u001b[0m\u001b[0m\n\u001b[0;32m----> 4\u001b[0;31m \u001b[0mprint\u001b[0m\u001b[0;34m(\u001b[0m\u001b[0mjuego\u001b[0m\u001b[0;34m.\u001b[0m\u001b[0mget_vecinos\u001b[0m\u001b[0;34m(\u001b[0m\u001b[0;36m3\u001b[0m\u001b[0;34m,\u001b[0m\u001b[0;36m3\u001b[0m\u001b[0;34m)\u001b[0m\u001b[0;34m)\u001b[0m\u001b[0;34m\u001b[0m\u001b[0;34m\u001b[0m\u001b[0m\n\u001b[0m\u001b[1;32m      5\u001b[0m \u001b[0mr\u001b[0m\u001b[0;34m=\u001b[0m\u001b[0;36m0\u001b[0m\u001b[0;34m\u001b[0m\u001b[0;34m\u001b[0m\u001b[0m\n\u001b[1;32m      6\u001b[0m \u001b[0mc\u001b[0m\u001b[0;34m=\u001b[0m\u001b[0;36m0\u001b[0m\u001b[0;34m\u001b[0m\u001b[0;34m\u001b[0m\u001b[0m\n",
            "\u001b[0;31mTypeError\u001b[0m: get_vecinos() takes 2 positional arguments but 3 were given"
          ]
        }
      ]
    },
    {
      "cell_type": "code",
      "metadata": {
        "id": "PgkpfmVTDUEx",
        "colab": {
          "base_uri": "https://localhost:8080/"
        },
        "outputId": "f5528eec-eb07-4b1b-f5db-cba9b80c1b12"
      },
      "source": [
        "from simple_chalk import *\n",
        "nombre = \"jose\"\n",
        "edad = 19\n",
        "print( nombre )\n",
        "print( edad )\n",
        "\n",
        "print( chalk.blue(nombre) )\n",
        "print( chalk.greenBright.bgWhite(edad) )\n"
      ],
      "execution_count": null,
      "outputs": [
        {
          "output_type": "stream",
          "name": "stdout",
          "text": [
            "jose\n",
            "19\n",
            "\u001b[34mjose\u001b[0m\n",
            "\u001b[92;47m19\u001b[0m\n"
          ]
        }
      ]
    }
  ]
}