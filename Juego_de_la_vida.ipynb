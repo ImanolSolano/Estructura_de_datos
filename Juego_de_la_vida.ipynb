{
  "nbformat": 4,
  "nbformat_minor": 0,
  "metadata": {
    "colab": {
      "name": "Juego_de_la_vida.ipynb",
      "provenance": [],
      "collapsed_sections": [],
      "authorship_tag": "ABX9TyPwekjms4v0Bxz6pCMzkFU3",
      "include_colab_link": true
    },
    "kernelspec": {
      "name": "python3",
      "display_name": "Python 3"
    },
    "language_info": {
      "name": "python"
    }
  },
  "cells": [
    {
      "cell_type": "markdown",
      "metadata": {
        "id": "view-in-github",
        "colab_type": "text"
      },
      "source": [
        "<a href=\"https://colab.research.google.com/github/ImanolSolano/Estructura_de_datos/blob/main/Juego_de_la_vida.ipynb\" target=\"_parent\"><img src=\"https://colab.research.google.com/assets/colab-badge.svg\" alt=\"Open In Colab\"/></a>"
      ]
    },
    {
      "cell_type": "code",
      "metadata": {
        "id": "trrIwnHB-BJQ"
      },
      "source": [
        "class Array2D():\n",
        "\n",
        "  def __init__(self, ren, col):\n",
        "    self.__columnas = col\n",
        "    self.__renglones = ren\n",
        "    self.__data = [[ 0 for i in range(col)]for i in range (ren)]\n",
        "\n",
        "  def to_string(self):\n",
        "    for i in range(self.__renglones):\n",
        "      print(self.__data[i])\n",
        "\n",
        "  def clear(self, dato):\n",
        "    for i in range (self.__renglones):\n",
        "      for x in range(self.__columnas):\n",
        "        self.__data[i][x] = dato\n",
        "\n",
        "  def get_row_size(self):\n",
        "    return self.__renglones\n",
        "\n",
        "  def get_col_size(self):\n",
        "    return self.__columnas\n",
        "\n",
        "  def set_item(self,ren,col,dato):\n",
        "    self.__data[ren][col] = dato\n",
        "\n",
        "  def get_item(self,ren,col):\n",
        "    return self.__data[ren][col]"
      ],
      "execution_count": 1,
      "outputs": []
    },
    {
      "cell_type": "code",
      "metadata": {
        "colab": {
          "base_uri": "https://localhost:8080/"
        },
        "id": "-7aEq32T-Gz9",
        "outputId": "6e21a8f5-aef0-4d4e-9546-69b70b1a5cdc"
      },
      "source": [
        "print(\"--- COMIENZA EL JUEGO --- \\n\")\n",
        "tablero = Array2D( 6 , 5 )\n",
        "tablero.to_string()\n",
        "tablero.clear(\"M\")\n",
        "\n",
        "print(\"\\n --- POBLACIÓN INICIAL --- \\n\")\n",
        "tablero.to_string()\n",
        "\n",
        "print(\"\\n --- CAMBIAR ESTADO DE UNA CELULA ---\\n\")\n",
        "poblacion_inicial = [( 2 , 2 ), ( 3 , 1 ), ( 3 , 2 ), ( 3 , 3 )]\n",
        "for par in poblacion_inicial:\n",
        "  tablero.set_item( par[0], par[1], 'V' )\n",
        "tablero.to_string()\n",
        "\n",
        "print(\"\\nEste tablero cuenta con \" , tablero.get_col_size() , \" columnas\")\n",
        "\n",
        "print(\"\\nEste tablero cuenta con \" , tablero.get_row_size() , \" filas\")\n",
        "\n",
        "celula = tablero.get_item(2,1)\n",
        "print(\"\\nEsta celula se encuentra: \", celula)\n",
        "\n",
        "celula = tablero.get_item(2,2)\n",
        "print(\"\\nEsta celula se encuentra: \", celula)\n",
        "\n",
        "\n",
        "#Esto no se debe de hacer, ya que es dificil de dar mantenimiento"
      ],
      "execution_count": 2,
      "outputs": [
        {
          "output_type": "stream",
          "name": "stdout",
          "text": [
            "--- COMIENZA EL JUEGO --- \n",
            "\n",
            "[0, 0, 0, 0, 0]\n",
            "[0, 0, 0, 0, 0]\n",
            "[0, 0, 0, 0, 0]\n",
            "[0, 0, 0, 0, 0]\n",
            "[0, 0, 0, 0, 0]\n",
            "[0, 0, 0, 0, 0]\n",
            "\n",
            " --- POBLACIÓN INICIAL --- \n",
            "\n",
            "['M', 'M', 'M', 'M', 'M']\n",
            "['M', 'M', 'M', 'M', 'M']\n",
            "['M', 'M', 'M', 'M', 'M']\n",
            "['M', 'M', 'M', 'M', 'M']\n",
            "['M', 'M', 'M', 'M', 'M']\n",
            "['M', 'M', 'M', 'M', 'M']\n",
            "\n",
            " --- CAMBIAR ESTADO DE UNA CELULA ---\n",
            "\n",
            "['M', 'M', 'M', 'M', 'M']\n",
            "['M', 'M', 'M', 'M', 'M']\n",
            "['M', 'M', 'V', 'M', 'M']\n",
            "['M', 'V', 'V', 'V', 'M']\n",
            "['M', 'M', 'M', 'M', 'M']\n",
            "['M', 'M', 'M', 'M', 'M']\n",
            "\n",
            "Este tablero cuenta con  5  columnas\n",
            "\n",
            "Este tablero cuenta con  6  filas\n",
            "\n",
            "Esta celula se encuentra:  M\n",
            "\n",
            "Esta celula se encuentra:  V\n"
          ]
        }
      ]
    },
    {
      "cell_type": "markdown",
      "metadata": {
        "id": "_U3GmyDSJUdm"
      },
      "source": [
        "##¿Como deberia programarse el juego de la vida?\n",
        "\n",
        "## R.- Programar un ADT especifico para empaquetar la lógica del juego de la vida. "
      ]
    },
    {
      "cell_type": "code",
      "metadata": {
        "id": "RNd4t1TOJgy1"
      },
      "source": [
        "\"\"\"\n",
        "En el Constructor:\n",
        "  lista_pob_inicial, es una lista de tupla que contiene las condenadas \n",
        "  ( ( ren, cols ) ) de las celulas vivas en la población inicial\n",
        "\"\"\"\n",
        "\n",
        "class juego_de_la_vida_ADT:\n",
        "  def __init__(self, rens, cols, lista_pob_inicial, generaciones):\n",
        "    self.tablero = Array2D( rens, cols )\n",
        "    self.generaciones = generaciones\n",
        "    self.gen = 1\n",
        "    self.tablero.clear( 'M' )\n",
        "    for par in lista_pob_inicial:\n",
        "      self.tablero.set_item( par[0], par[1], 'v' )\n",
        "  \n",
        "  def to_string( self ):\n",
        "    print(f\"--- GENERACIÓN { self.gen } ---\")\n",
        "    self.tablero.to_string()\n",
        "\n",
        "    \"\"\"\n",
        "    get_vecinos(r,c)\n",
        "    Calcular vecinos de la celula en la posición r,c regresando \n",
        "    las coordenadas de los mismos \n",
        "    \"\"\"\n",
        "\n",
        "  def get_vecinos( r, c ):\n",
        "    vecinos = []\n",
        "    for ren in range( r-1 , r+2, 1 ):\n",
        "      for vol in range ( c-1, c+2, 1 ):\n",
        "        if ren < 0 or ren >= self.tablero.get_row_size() or col < 0 or col >= self.tablero.get_col_size() or (ren==r and col==c):\n",
        "          pass\n",
        "        else: \n",
        "          vecinos.append((ren,col))\n",
        "    return vecinos\n",
        "\n",
        "  def get_vecinos_vivos( self, r, c ):\n",
        "    vivos = 0\n",
        "    vecinos = self.get_vecinos(r, c)\n",
        "    for par in vecinos:\n",
        "      if self.tablero.get_item(par(0), par(1)) == 'V':\n",
        "        vivos += 1\n",
        "    return vivos \n",
        "\n",
        "  def aplicar_reglas():\n",
        "      "
      ],
      "execution_count": 15,
      "outputs": []
    },
    {
      "cell_type": "markdown",
      "metadata": {
        "id": "d3qShzu-7wyO"
      },
      "source": [
        "\n"
      ]
    },
    {
      "cell_type": "code",
      "metadata": {
        "colab": {
          "base_uri": "https://localhost:8080/",
          "height": 373
        },
        "id": "qwJQBZbvMStN",
        "outputId": "8d118afb-9ce9-4997-b295-8c62bf01cdab"
      },
      "source": [
        "juego = juego_de_la_vida_ADT( 6 , 5 , [(2,2),(3,1),(3,2),(3,3)] , 5 )\n",
        "juego.to_string()\n",
        "print(\"---Vecinos de (5,4)---\")\n",
        "print(juego.get_vecinos(2,2))\n",
        "r=0\n",
        "c=0\n",
        "print(f\"---Vecinos vivos de {r}, {c} son {juego.get_vecinos_vivos(r,c)}---\")\n"
      ],
      "execution_count": 20,
      "outputs": [
        {
          "output_type": "stream",
          "name": "stdout",
          "text": [
            "--- GENERACIÓN 1 ---\n",
            "['M', 'M', 'M', 'M', 'M']\n",
            "['M', 'M', 'M', 'M', 'M']\n",
            "['M', 'M', 'v', 'M', 'M']\n",
            "['M', 'v', 'v', 'v', 'M']\n",
            "['M', 'M', 'M', 'M', 'M']\n",
            "['M', 'M', 'M', 'M', 'M']\n",
            "---Vecinos de (5,4)---\n"
          ]
        },
        {
          "output_type": "error",
          "ename": "TypeError",
          "evalue": "ignored",
          "traceback": [
            "\u001b[0;31m---------------------------------------------------------------------------\u001b[0m",
            "\u001b[0;31mTypeError\u001b[0m                                 Traceback (most recent call last)",
            "\u001b[0;32m<ipython-input-20-f51e54f5fa02>\u001b[0m in \u001b[0;36m<module>\u001b[0;34m()\u001b[0m\n\u001b[1;32m      2\u001b[0m \u001b[0mjuego\u001b[0m\u001b[0;34m.\u001b[0m\u001b[0mto_string\u001b[0m\u001b[0;34m(\u001b[0m\u001b[0;34m)\u001b[0m\u001b[0;34m\u001b[0m\u001b[0;34m\u001b[0m\u001b[0m\n\u001b[1;32m      3\u001b[0m \u001b[0mprint\u001b[0m\u001b[0;34m(\u001b[0m\u001b[0;34m\"---Vecinos de (5,4)---\"\u001b[0m\u001b[0;34m)\u001b[0m\u001b[0;34m\u001b[0m\u001b[0;34m\u001b[0m\u001b[0m\n\u001b[0;32m----> 4\u001b[0;31m \u001b[0mprint\u001b[0m\u001b[0;34m(\u001b[0m\u001b[0mjuego\u001b[0m\u001b[0;34m.\u001b[0m\u001b[0mget_vecinos\u001b[0m\u001b[0;34m(\u001b[0m\u001b[0;36m2\u001b[0m\u001b[0;34m,\u001b[0m\u001b[0;36m2\u001b[0m\u001b[0;34m)\u001b[0m\u001b[0;34m)\u001b[0m\u001b[0;34m\u001b[0m\u001b[0;34m\u001b[0m\u001b[0m\n\u001b[0m\u001b[1;32m      5\u001b[0m \u001b[0mr\u001b[0m\u001b[0;34m=\u001b[0m\u001b[0;36m0\u001b[0m\u001b[0;34m\u001b[0m\u001b[0;34m\u001b[0m\u001b[0m\n\u001b[1;32m      6\u001b[0m \u001b[0mc\u001b[0m\u001b[0;34m=\u001b[0m\u001b[0;36m0\u001b[0m\u001b[0;34m\u001b[0m\u001b[0;34m\u001b[0m\u001b[0m\n",
            "\u001b[0;31mTypeError\u001b[0m: get_vecinos() takes 2 positional arguments but 3 were given"
          ]
        }
      ]
    }
  ]
}