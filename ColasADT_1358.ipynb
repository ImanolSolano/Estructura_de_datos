{
  "nbformat": 4,
  "nbformat_minor": 0,
  "metadata": {
    "colab": {
      "name": "ColasADT_1358.ipynb",
      "provenance": [],
      "authorship_tag": "ABX9TyN3J/y8zZzz9id90i5KOeSW",
      "include_colab_link": true
    },
    "kernelspec": {
      "name": "python3",
      "display_name": "Python 3"
    },
    "language_info": {
      "name": "python"
    }
  },
  "cells": [
    {
      "cell_type": "markdown",
      "metadata": {
        "id": "view-in-github",
        "colab_type": "text"
      },
      "source": [
        "<a href=\"https://colab.research.google.com/github/ImanolSolano/Estructura_de_datos/blob/main/ColasADT_1358.ipynb\" target=\"_parent\"><img src=\"https://colab.research.google.com/assets/colab-badge.svg\" alt=\"Open In Colab\"/></a>"
      ]
    },
    {
      "cell_type": "code",
      "metadata": {
        "id": "pzxv2GL2staq"
      },
      "source": [
        "class QueueADT:\n",
        "  def __init__( self ):\n",
        "    self.__data = []\n",
        "\n",
        "  def is_empty( self ):\n",
        "    return len(self.__data) == 0\n",
        "  \n",
        "  def lenght( self ):\n",
        "    return len( self.__data )\n",
        "  \n",
        "  def enqueue( self, elem ):\n",
        "    self.__data.append( elem )\n",
        "\n",
        "  def dequeue( self ):\n",
        "    if not self.is_empty():\n",
        "      return self.__data.pop(0)\n",
        "  \n",
        "  def to_string( self ):\n",
        "    for elem in self.__data:\n",
        "      print(f\"| {elem} | <---\", end=\"  \")\n",
        "    print(\"\")"
      ],
      "execution_count": 4,
      "outputs": []
    },
    {
      "cell_type": "code",
      "metadata": {
        "colab": {
          "base_uri": "https://localhost:8080/"
        },
        "id": "yIFg8WwLussD",
        "outputId": "044f2fdb-c4d3-444b-ac3f-95ba24ebda62"
      },
      "source": [
        "cola = QueueADT()\n",
        "print( \"¿Está vacío?\", cola.is_empty() )\n",
        "print(\"El # de elementos\", cola.lenght() )\n",
        "\n",
        "cola.enqueue(10)\n",
        "cola.to_string()\n",
        "\n",
        "cola.enqueue(20)\n",
        "cola.enqueue(30)\n",
        "cola.enqueue(40)\n",
        "cola.to_string()\n",
        "\n",
        "siguiente = cola.dequeue()\n",
        "print(\"\\nAtendiendo a: \", siguiente)\n",
        "cola.to_string()\n",
        "\n",
        "siguiente = cola.dequeue()\n",
        "print(\"\\nAtendiendo a: \", siguiente)\n",
        "cola.to_string()\n",
        "\n",
        "siguiente = cola.dequeue()\n",
        "print(\"\\nAtendiendo a: \", siguiente)\n",
        "cola.to_string()\n",
        "\n",
        "siguiente = cola.dequeue()\n",
        "print(\"\\nAtendiendo a: \", siguiente)\n",
        "cola.to_string()"
      ],
      "execution_count": 5,
      "outputs": [
        {
          "output_type": "stream",
          "name": "stdout",
          "text": [
            "¿Está vacío? True\n",
            "El # de elementos 0\n",
            "| 10 | <---  \n",
            "| 10 | <---  | 20 | <---  | 30 | <---  | 40 | <---  \n",
            "\n",
            "Atendiendo a:  10\n",
            "| 20 | <---  | 30 | <---  | 40 | <---  \n",
            "\n",
            "Atendiendo a:  20\n",
            "| 30 | <---  | 40 | <---  \n",
            "\n",
            "Atendiendo a:  30\n",
            "| 40 | <---  \n",
            "\n",
            "Atendiendo a:  40\n",
            "\n"
          ]
        }
      ]
    },
    {
      "cell_type": "code",
      "metadata": {
        "id": "4HVT8H2J-JTY"
      },
      "source": [
        "class ColaPrioridadAcotada:\n",
        "  def __init__( self, niveles ):\n",
        "    self.__data = [ QueueADT() for x in range( niveles ) ]\n",
        "    self.length = 0\n",
        "  \n",
        "  def is_empty( self ):\n",
        "    return self.length == 0\n",
        "  \n",
        "  def length(  self ):\n",
        "    return self.length\n",
        "  \n",
        "  def enqueue( self, prioridad, elem ):\n",
        "    if prioridad >= 0 and prioridad < len( self.__data ):\n",
        "      self.__data[ prioridad ].enqueue( elem )\n",
        "      self.length += 1\n",
        "    \n",
        "  def to_string( self ):\n",
        "    for p in range( len( self.__data ) ):\n",
        "      print(f\"\\nPrioridad { p } = \" , end=\"\")\n",
        "      self.__data[p].to_string()\n",
        "\n",
        "  def dequeue( self ):\n",
        "    for nivel in self.__data:\n",
        "      if not nivel.is_empty():\n",
        "        self.length -= 1\n",
        "        return nivel.dequeue()"
      ],
      "execution_count": 18,
      "outputs": []
    },
    {
      "cell_type": "code",
      "metadata": {
        "id": "ndhgKyckCiDW",
        "outputId": "a1f280be-59c0-46f2-cca7-1394535ebcc8",
        "colab": {
          "base_uri": "https://localhost:8080/"
        }
      },
      "source": [
        "cpa = ColaPrioridadAcotada( 7 )\n",
        "print(\"--- Ejemplo #1 ---\")\n",
        "cpa.enqueue( 4, \"A\")\n",
        "cpa.enqueue( 2, \"Z\")\n",
        "cpa.enqueue( 4, \"N\")\n",
        "cpa.enqueue( 1, \"P\")\n",
        "cpa.to_string()\n",
        "print(\"\\n--- Segundo ejemplo ---\")\n",
        "sig = cpa.dequeue()\n",
        "cpa.to_string()"
      ],
      "execution_count": 20,
      "outputs": [
        {
          "output_type": "stream",
          "name": "stdout",
          "text": [
            "--- Ejemplo #1 ---\n",
            "\n",
            "Prioridad 0 = \n",
            "\n",
            "Prioridad 1 = | P | <---  \n",
            "\n",
            "Prioridad 2 = | Z | <---  \n",
            "\n",
            "Prioridad 3 = \n",
            "\n",
            "Prioridad 4 = | A | <---  | N | <---  \n",
            "\n",
            "Prioridad 5 = \n",
            "\n",
            "Prioridad 6 = \n",
            "\n",
            "--- Segundo ejemplo ---\n",
            "\n",
            "Prioridad 0 = \n",
            "\n",
            "Prioridad 1 = \n",
            "\n",
            "Prioridad 2 = | Z | <---  \n",
            "\n",
            "Prioridad 3 = \n",
            "\n",
            "Prioridad 4 = | A | <---  | N | <---  \n",
            "\n",
            "Prioridad 5 = \n",
            "\n",
            "Prioridad 6 = \n"
          ]
        }
      ]
    },
    {
      "cell_type": "code",
      "metadata": {
        "id": "W8cNSckXFUVt"
      },
      "source": [
        "class ColaDePrioridad:\n",
        "  def __init__( self ):\n",
        "    self.__data = []\n",
        "    self.__length\n",
        "  \n",
        "  def is_empty( self ):\n",
        "    return self.length == 0\n",
        "  \n",
        "  def length(  self ):\n",
        "    return self.length\n",
        "  \n",
        "  def enqueue( self, prioridad, elem ):\n",
        "    existe = False\n",
        "    indice = 0\n",
        "    for index in range( self.__data ):\n",
        "      if self.__data[ index ][\"p\"] == prioridad:\n",
        "        existe = True\n",
        "        indice = index\n",
        "        break\n",
        "    if existe:\n",
        "      self.__data[indice].enqueue( elem )\n",
        "    else:\n",
        "      self.__data[indice].append({\"p\":prioridad, \"cola\": QueueADT() } )\n",
        "      self.__data[-1][\"cola\"].enqueue( elem )"
      ],
      "execution_count": 24,
      "outputs": []
    }
  ]
}