{
  "nbformat": 4,
  "nbformat_minor": 0,
  "metadata": {
    "colab": {
      "name": "ColasADT_1358.ipynb",
      "provenance": [],
      "authorship_tag": "ABX9TyNcJfEySd6Znf8lRbTA/bcn",
      "include_colab_link": true
    },
    "kernelspec": {
      "name": "python3",
      "display_name": "Python 3"
    },
    "language_info": {
      "name": "python"
    }
  },
  "cells": [
    {
      "cell_type": "markdown",
      "metadata": {
        "id": "view-in-github",
        "colab_type": "text"
      },
      "source": [
        "<a href=\"https://colab.research.google.com/github/ImanolSolano/Estructura_de_datos/blob/main/ColasADT_1358.ipynb\" target=\"_parent\"><img src=\"https://colab.research.google.com/assets/colab-badge.svg\" alt=\"Open In Colab\"/></a>"
      ]
    },
    {
      "cell_type": "code",
      "metadata": {
        "id": "pzxv2GL2staq"
      },
      "source": [
        "class QueueADT:\n",
        "  def __init__( self ):\n",
        "    self.__data = []\n",
        "\n",
        "  def is_empty( self ):\n",
        "    return len(self.__data) == 0\n",
        "  \n",
        "  def lenght( self ):\n",
        "    return len( self.__data )\n",
        "  \n",
        "  def enqueue( self, elem ):\n",
        "    self.__data.append( elem )\n",
        "\n",
        "  def dequeue( self ):\n",
        "    if not self.is_empty():\n",
        "      return self.__data.pop(0)\n",
        "  \n",
        "  def to_string( self ):\n",
        "    for elem in self.__data:\n",
        "      print(f\"| {elem} | <---\", end=\"  \")\n",
        "    print(\"\")"
      ],
      "execution_count": null,
      "outputs": []
    },
    {
      "cell_type": "code",
      "metadata": {
        "colab": {
          "base_uri": "https://localhost:8080/"
        },
        "id": "yIFg8WwLussD",
        "outputId": "00291651-86dc-4810-dd2a-759195ca05e6"
      },
      "source": [
        "cola = QueueADT()\n",
        "print( \"¿Está vacío?\", cola.is_empty() )\n",
        "print(\"El # de elementos\", cola.lenght() )\n",
        "\n",
        "cola.enqueue(10)\n",
        "cola.to_string()\n",
        "\n",
        "cola.enqueue(20)\n",
        "cola.enqueue(30)\n",
        "cola.enqueue(40)\n",
        "cola.to_string()\n",
        "\n",
        "siguiente = cola.dequeue()\n",
        "print(\"\\nAtendiendo a: \", siguiente)\n",
        "cola.to_string()\n",
        "\n",
        "siguiente = cola.dequeue()\n",
        "print(\"\\nAtendiendo a: \", siguiente)\n",
        "cola.to_string()\n",
        "\n",
        "siguiente = cola.dequeue()\n",
        "print(\"\\nAtendiendo a: \", siguiente)\n",
        "cola.to_string()\n",
        "\n",
        "siguiente = cola.dequeue()\n",
        "print(\"\\nAtendiendo a: \", siguiente)\n",
        "cola.to_string()"
      ],
      "execution_count": null,
      "outputs": [
        {
          "output_type": "stream",
          "name": "stdout",
          "text": [
            "¿Está vacío? True\n",
            "El # de elementos 0\n",
            "| 10 | <---  \n",
            "| 10 | <---  | 20 | <---  | 30 | <---  | 40 | <---  \n",
            "\n",
            "Atendiendo a:  10\n",
            "| 20 | <---  | 30 | <---  | 40 | <---  \n",
            "\n",
            "Atendiendo a:  20\n",
            "| 30 | <---  | 40 | <---  \n",
            "\n",
            "Atendiendo a:  30\n",
            "| 40 | <---  \n",
            "\n",
            "Atendiendo a:  40\n",
            "\n"
          ]
        }
      ]
    }
  ]
}