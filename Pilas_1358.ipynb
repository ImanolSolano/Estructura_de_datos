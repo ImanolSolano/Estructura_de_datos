{
  "nbformat": 4,
  "nbformat_minor": 0,
  "metadata": {
    "colab": {
      "name": "Pilas_1358.ipynb",
      "provenance": [],
      "authorship_tag": "ABX9TyMkQslfjJmJeHyupWc4WCJW",
      "include_colab_link": true
    },
    "kernelspec": {
      "name": "python3",
      "display_name": "Python 3"
    },
    "language_info": {
      "name": "python"
    }
  },
  "cells": [
    {
      "cell_type": "markdown",
      "metadata": {
        "id": "view-in-github",
        "colab_type": "text"
      },
      "source": [
        "<a href=\"https://colab.research.google.com/github/ImanolSolano/Estructura_de_datos/blob/main/Pilas_1358.ipynb\" target=\"_parent\"><img src=\"https://colab.research.google.com/assets/colab-badge.svg\" alt=\"Open In Colab\"/></a>"
      ]
    },
    {
      "cell_type": "code",
      "metadata": {
        "id": "aQU4rNJgTcIr"
      },
      "source": [
        "class StackADT:\n",
        "  def __init__( self ):\n",
        "    self.data = list()\n",
        "    self.tope = 0\n",
        "\n",
        "  def is_empty( self ):\n",
        "    return self.tope == 0\n",
        "\n",
        "  def length( self ):\n",
        "    return self.tope \n",
        "  \n",
        "  def pop( self ):\n",
        "    if not self.is_empty():\n",
        "      self.tope -=1\n",
        "      return self.data.pop()\n",
        "      \n",
        "\n",
        "  def peek( self ):\n",
        "    return self.data[ self.tope -1 ]\n",
        "\n",
        "  def push( self , value ):\n",
        "    self.data.append( value )\n",
        "    self.tope +=1\n",
        "\n",
        "  def to_string( self ):\n",
        "    print(\"El estado de la pila es:\")\n",
        "    for elemento in self.data:\n",
        "      print(f\"|  { elemento }  |\")\n",
        "  \n"
      ],
      "execution_count": 6,
      "outputs": []
    },
    {
      "cell_type": "code",
      "metadata": {
        "colab": {
          "base_uri": "https://localhost:8080/"
        },
        "id": "kK47C8Y0XShF",
        "outputId": "0d9d4cdd-687c-4485-890d-e5fe03a8acc5"
      },
      "source": [
        "pila = StackADT()\n",
        "pila.push( 10 )\n",
        "pila.push( 20 )\n",
        "pila.push( 30 )\n",
        "pila.push( 40 )\n",
        "pila.to_string()\n",
        "print( \"\\nLlamada a peek \", pila.peek())\n",
        "print( \"\\nLlamada a pop \", pila.pop())\n",
        "pila.to_string()\n",
        "pila.push(25)\n",
        "pila.push(26)\n",
        "print(\"\\nMeter 25 y 26\")\n",
        "pila.to_string()\n",
        "print(f\"\\nLa pila tiene {pila.length()} elementos. :)\")\n",
        "pila.pop()\n",
        "print(f\"\\nLa pila tiene {pila.length()} elementos, después del primer pop() :)\")\n",
        "pila.pop()\n",
        "print(f\"\\nLa pila tiene {pila.length()} elementos, después del segundo pop() :)\")\n",
        "pila.pop()\n",
        "print(f\"\\nLa pila tiene {pila.length()} elementos, después del tercero pop() :)\")\n",
        "pila.pop()\n",
        "print(f\"\\nLa pila tiene {pila.length()} elementos, después del cuarto pop() :)\")\n",
        "pila.pop()\n",
        "print(f\"\\nLa pila tiene {pila.length()} elementos. :)\")"
      ],
      "execution_count": 7,
      "outputs": [
        {
          "output_type": "stream",
          "name": "stdout",
          "text": [
            "El estado de la pila es:\n",
            "|  10  |\n",
            "|  20  |\n",
            "|  30  |\n",
            "|  40  |\n",
            "\n",
            "Llamada a peek  40\n",
            "\n",
            "Llamada a pop  40\n",
            "El estado de la pila es:\n",
            "|  10  |\n",
            "|  20  |\n",
            "|  30  |\n",
            "\n",
            "Meter 25 y 26\n",
            "El estado de la pila es:\n",
            "|  10  |\n",
            "|  20  |\n",
            "|  30  |\n",
            "|  25  |\n",
            "|  26  |\n",
            "\n",
            "La pila tiene 5 elementos. :)\n",
            "\n",
            "La pila tiene 4 elementos, después del primer pop() :)\n",
            "\n",
            "La pila tiene 3 elementos, después del segundo pop() :)\n",
            "\n",
            "La pila tiene 2 elementos, después del tercero pop() :)\n",
            "\n",
            "La pila tiene 1 elementos, después del cuarto pop() :)\n",
            "\n",
            "La pila tiene 0 elementos. :)\n"
          ]
        }
      ]
    },
    {
      "cell_type": "code",
      "metadata": {
        "id": "QFkaYGdpeavC"
      },
      "source": [
        "class Array2D():\n",
        "  def __init__(self, ren, col):\n",
        "    self.__columnas = col\n",
        "    self.__renglones = ren\n",
        "    self.__data = [[ 0 for i in range(col)]for i in range (ren)]\n",
        "\n",
        "  def to_string(self):\n",
        "    for i in range(self.__renglones):\n",
        "      print(self.__data[i])\n",
        "\n",
        "  def clear(self, dato):\n",
        "    for i in range (self.__renglones):\n",
        "      for x in range(self.__columnas):\n",
        "        self.__data[i][x] = dato\n",
        "\n",
        "  def get_row_size(self):\n",
        "    return self.__renglones\n",
        "\n",
        "  def get_col_size(self):\n",
        "    return self.__columnas\n",
        "\n",
        "  def set_item(self,ren,col,dato):\n",
        "    self.__data[ren][col] = dato\n",
        "\n",
        "  def get_item(self,ren,col):\n",
        "    return self.__data[ren][col]"
      ],
      "execution_count": 8,
      "outputs": []
    },
    {
      "cell_type": "code",
      "metadata": {
        "id": "YhhGDagopupT"
      },
      "source": [
        "class LaberintoADT:\n",
        "  def __init__( self, archivo ):\n",
        "    self.laberinto = None #Array 2D\n",
        "    self.camino = StackADT()\n",
        "    self.inicializa( archivo )\n",
        "    self.laberinto.to_string()\n",
        "    print(\"\\nStack\")\n",
        "    self.camino.to_string()\n",
        "\n",
        "  def inicializa( self, archivo ):\n",
        "    entrada = open( archivo , 'rt' )\n",
        "    self.laberinto = Array2D( int( entrada.readline().strip() ) , int( entrada.readline().strip() ) )\n",
        "    self.laberinto.clear('P')\n",
        "    lineas = entrada.readlines()\n",
        "    for r in range( len(lineas) ):\n",
        "      lineasBis = lineas[r].strip().split(',')\n",
        "      for c in range( len( lineasBis ) ):\n",
        "        self.laberinto.set_item(r,c,lineasBis[c])\n",
        "\n",
        "    for r in range( self.laberinto.get_row_size() ):\n",
        "      for c in range( self.laberinto.get_col_size() ):\n",
        "        if self.laberinto.get_item(r,c) == 'E':\n",
        "          self.camino.push( ( r,c ) )\n",
        "\n",
        "    "
      ],
      "execution_count": 9,
      "outputs": []
    },
    {
      "cell_type": "code",
      "metadata": {
        "colab": {
          "base_uri": "https://localhost:8080/"
        },
        "id": "zXrQ-F5Qt45I",
        "outputId": "6049a112-ae63-477c-a998-445a2418b4b1"
      },
      "source": [
        "juego = LaberintoADT('entrada.txt')"
      ],
      "execution_count": 10,
      "outputs": [
        {
          "output_type": "stream",
          "name": "stdout",
          "text": [
            "['P', 'P', 'P', 'P', 'P']\n",
            "['P', 'P', 'C', 'C', 'S']\n",
            "['P', 'C', 'C', 'P', 'P']\n",
            "['P', 'P', 'C', 'P', 'P']\n",
            "['P', 'P', 'E', 'P', 'P']\n",
            "\n",
            "Stack\n",
            "El estado de la pila es:\n",
            "|  (4, 2)  |\n"
          ]
        }
      ]
    }
  ]
}