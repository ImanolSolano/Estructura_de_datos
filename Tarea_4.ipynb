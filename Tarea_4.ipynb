{
  "nbformat": 4,
  "nbformat_minor": 0,
  "metadata": {
    "colab": {
      "name": "Tarea_4.ipynb",
      "provenance": [],
      "collapsed_sections": [],
      "authorship_tag": "ABX9TyN7w9PYmJgP1BqvnECI5uPG",
      "include_colab_link": true
    },
    "kernelspec": {
      "name": "python3",
      "display_name": "Python 3"
    },
    "language_info": {
      "name": "python"
    }
  },
  "cells": [
    {
      "cell_type": "markdown",
      "metadata": {
        "id": "view-in-github",
        "colab_type": "text"
      },
      "source": [
        "<a href=\"https://colab.research.google.com/github/ImanolSolano/Estructura_de_datos/blob/main/Tarea_4.ipynb\" target=\"_parent\"><img src=\"https://colab.research.google.com/assets/colab-badge.svg\" alt=\"Open In Colab\"/></a>"
      ]
    },
    {
      "cell_type": "code",
      "metadata": {
        "id": "s2biHJoKGjY3"
      },
      "source": [
        "class Array_2D():\n",
        "  def __init__(self, ren, col):\n",
        "    self.__ren = ren\n",
        "    self.__col = col\n",
        "    self.__dos_d = [[0 for i in range(self.__col)] for j in range(self.__ren)]\n",
        "\n",
        "  def clear(self, dato):\n",
        "    self.__dos_d.clear()\n",
        "    print(self.__dos_d)\n",
        "    self.__dos_d = [[dato for i in range(self.__col)] for j in range(self.__ren)]\n",
        "    return self.__dos_d\n",
        "\n",
        "  def get_row_size(self):\n",
        "    return self.__ren\n",
        "\n",
        "  def get_col_size(self):\n",
        "    return self.__col\n",
        "    \n",
        "\n",
        "  def get_item(self, ren, col):\n",
        "    return self.__dos_d[ren][col]\n",
        "\n",
        "  def to_string(self):\n",
        "    return self.__dos_d\n",
        "\n",
        "\n",
        "\n",
        "\n"
      ],
      "execution_count": null,
      "outputs": []
    },
    {
      "cell_type": "code",
      "metadata": {
        "id": "qj6BmWu3T1n1",
        "colab": {
          "base_uri": "https://localhost:8080/"
        },
        "outputId": "079da4c7-4654-4f4c-9890-de29a92b1600"
      },
      "source": [
        "i_1 = Array_2D(2,4)\n",
        "\n",
        "i_1.to_string\n",
        "\n",
        "i_1.get_col_size\n",
        "\n",
        "i_1.get_row_size\n"
      ],
      "execution_count": null,
      "outputs": [
        {
          "output_type": "execute_result",
          "data": {
            "text/plain": [
              "<bound method Array_2D.get_row_size of <__main__.Array_2D object at 0x7f18587c0a10>>"
            ]
          },
          "metadata": {},
          "execution_count": 4
        }
      ]
    },
    {
      "cell_type": "code",
      "metadata": {
        "id": "2W8L1YI_dfg9"
      },
      "source": [
        "help(str)"
      ],
      "execution_count": null,
      "outputs": []
    },
    {
      "cell_type": "code",
      "metadata": {
        "id": "HDfZMjByF_AA",
        "colab": {
          "base_uri": "https://localhost:8080/"
        },
        "outputId": "4dbd59d1-7231-401a-ec90-977b99f15645"
      },
      "source": [
        "__ren = 3\n",
        "__col = 4\n",
        "__dos_d = [[0 for i in range(__col)] for j in range(__ren)]\n",
        "print(__dos_d)\n",
        "print(\".-.-.-.-.-.-.-.-.-.-.-.-.-.-.-.-.-.-.-.-.-.-.-.\")\n",
        "\n",
        "__dos_d.clear()\n",
        "print(__dos_d)\n",
        "\n",
        "__ren = 2\n",
        "__col = 4 \n",
        "__dos_d = [[1 for i in range(__col)] for j in range(__ren)]\n",
        "print(__dos_d)\n",
        "\n",
        "print(\".-.-.-.-.-.-.-.-.-.-.-.-.-.-.-.-.-.-.-.-.-.-.-.\")\n"
      ],
      "execution_count": null,
      "outputs": [
        {
          "output_type": "stream",
          "name": "stdout",
          "text": [
            "[[0, 0, 0, 0], [0, 0, 0, 0], [0, 0, 0, 0]]\n",
            ".-.-.-.-.-.-.-.-.-.-.-.-.-.-.-.-.-.-.-.-.-.-.-.\n",
            "[]\n",
            "[[1, 1, 1, 1], [1, 1, 1, 1]]\n",
            ".-.-.-.-.-.-.-.-.-.-.-.-.-.-.-.-.-.-.-.-.-.-.-.\n"
          ]
        }
      ]
    }
  ]
}