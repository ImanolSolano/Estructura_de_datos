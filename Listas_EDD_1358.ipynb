{
  "nbformat": 4,
  "nbformat_minor": 0,
  "metadata": {
    "colab": {
      "name": "Listas_EDD_1358.ipynb",
      "provenance": [],
      "authorship_tag": "ABX9TyMbvkA7g3eTNoS+XXSPlRnU",
      "include_colab_link": true
    },
    "kernelspec": {
      "name": "python3",
      "display_name": "Python 3"
    },
    "language_info": {
      "name": "python"
    }
  },
  "cells": [
    {
      "cell_type": "markdown",
      "metadata": {
        "id": "view-in-github",
        "colab_type": "text"
      },
      "source": [
        "<a href=\"https://colab.research.google.com/github/ImanolSolano/Estructura_de_datos/blob/main/Listas_EDD_1358.ipynb\" target=\"_parent\"><img src=\"https://colab.research.google.com/assets/colab-badge.svg\" alt=\"Open In Colab\"/></a>"
      ]
    },
    {
      "cell_type": "code",
      "metadata": {
        "id": "6EIGjSXBSAeN"
      },
      "source": [
        "class Nodo:\n",
        "  def __init__(self, value, siguiente = None):\n",
        "    self.data = value\n",
        "    self.next = siguiente\n",
        "  \n",
        "  "
      ],
      "execution_count": null,
      "outputs": []
    },
    {
      "cell_type": "code",
      "metadata": {
        "colab": {
          "base_uri": "https://localhost:8080/"
        },
        "id": "zHPQ3NM6TikV",
        "outputId": "57874d6d-5ca4-4980-a290-595221bb53f3"
      },
      "source": [
        "head = Nodo(30)\n",
        "print(f\"Este es el primer Nodo: {head.data}\")\n",
        "print(f\"\\nEl segundo Nodo es: {head.next}\")"
      ],
      "execution_count": null,
      "outputs": [
        {
          "output_type": "stream",
          "name": "stdout",
          "text": [
            "Este es el primer Nodo: 30\n",
            "\n",
            "El segundo Nodo es: None\n"
          ]
        }
      ]
    },
    {
      "cell_type": "code",
      "metadata": {
        "colab": {
          "base_uri": "https://localhost:8080/"
        },
        "id": "ab0QQfR8W6q6",
        "outputId": "b45dd32c-10a9-4755-b04c-a2a77b46fbbc"
      },
      "source": [
        "head2 = Nodo(20)\n",
        "head2.next = Nodo(15)\n",
        "\n",
        "print(f\"Este es el primer Nodo: {head2.data}\")\n",
        "print(f\"\\nEste es el segundo Nodo: {head2.next.data}\")\n",
        "print(f\"\\nEl tercer Nodo es: {head2.next.next}\")\n",
        "print(f\"\\nRepresentación del Nodo #2 en bloque: {head2.next}\")\n",
        "\n",
        "print(\"\\n---- Segundo método ---\")\n",
        "punto_entrada = Nodo( 20, Nodo( 15 ) )\n",
        "print(f\"\\nEste es el primer Nodo: {punto_entrada.data}\" )\n",
        "print(f\"\\nEste es el segundo Nodo: {punto_entrada.next.data}\")\n",
        "print(f\"\\nEste es el valor del tercer Nodo: {punto_entrada.next}\")"
      ],
      "execution_count": null,
      "outputs": [
        {
          "output_type": "stream",
          "name": "stdout",
          "text": [
            "Este es el primer Nodo: 20\n",
            "\n",
            "Este es el segundo Nodo: 15\n",
            "\n",
            "El tercer Nodo es: None\n",
            "\n",
            "Representación del Nodo #2 en bloque: <__main__.Nodo object at 0x7f8ef3f87cd0>\n",
            "\n",
            "---- Segundo método ---\n",
            "\n",
            "Este es el primer Nodo: 20\n",
            "\n",
            "Este es el segundo Nodo: 15\n",
            "\n",
            "Este es el valor del tercer Nodo: <__main__.Nodo object at 0x7f8ef739bc10>\n"
          ]
        }
      ]
    }
  ]
}