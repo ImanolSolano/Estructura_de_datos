{
  "nbformat": 4,
  "nbformat_minor": 0,
  "metadata": {
    "colab": {
      "name": "Listas_EDD_1358.ipynb",
      "provenance": [],
      "collapsed_sections": [],
      "authorship_tag": "ABX9TyPIYpqrymlhc/2jRJq6b+UY",
      "include_colab_link": true
    },
    "kernelspec": {
      "name": "python3",
      "display_name": "Python 3"
    },
    "language_info": {
      "name": "python"
    }
  },
  "cells": [
    {
      "cell_type": "markdown",
      "metadata": {
        "id": "view-in-github",
        "colab_type": "text"
      },
      "source": [
        "<a href=\"https://colab.research.google.com/github/ImanolSolano/Estructura_de_datos/blob/main/Listas_EDD_1358.ipynb\" target=\"_parent\"><img src=\"https://colab.research.google.com/assets/colab-badge.svg\" alt=\"Open In Colab\"/></a>"
      ]
    },
    {
      "cell_type": "code",
      "metadata": {
        "id": "6EIGjSXBSAeN"
      },
      "source": [
        "class Nodo:\n",
        "  def __init__(self, value, siguiente = None):\n",
        "    self.data = value\n",
        "    self.next = siguiente"
      ],
      "execution_count": 23,
      "outputs": []
    },
    {
      "cell_type": "code",
      "metadata": {
        "colab": {
          "base_uri": "https://localhost:8080/"
        },
        "id": "zHPQ3NM6TikV",
        "outputId": "4ec281c0-c0b4-462d-dcbf-776e1b8c163d"
      },
      "source": [
        "head = Nodo(30)\n",
        "print(f\"Este es el primer Nodo: {head.data}\")\n",
        "print(f\"\\nEl segundo Nodo es: {head.next}\")"
      ],
      "execution_count": 3,
      "outputs": [
        {
          "output_type": "stream",
          "name": "stdout",
          "text": [
            "Este es el primer Nodo: 30\n",
            "\n",
            "El segundo Nodo es: None\n"
          ]
        }
      ]
    },
    {
      "cell_type": "code",
      "metadata": {
        "colab": {
          "base_uri": "https://localhost:8080/"
        },
        "id": "ab0QQfR8W6q6",
        "outputId": "d2367b49-c429-4c7f-d070-b2cfd2381028"
      },
      "source": [
        "print(\"--- Primer método ---\")\n",
        "head2 = Nodo(20)\n",
        "head2.next = Nodo(15)\n",
        "print(f\"\\nEste es el primer Nodo: {head2.data}\")\n",
        "print(f\"\\nEste es el segundo Nodo: {head2.next.data}\")\n",
        "print(f\"\\nEl tercer Nodo es: {head2.next.next}\")\n",
        "print(f\"\\nRepresentación del Nodo #2 en bloque: {head2.next}\")\n",
        "\n",
        "print(\"\\n---- Segundo método ---\")\n",
        "punto_entrada = Nodo( 20, Nodo( 15 ) )\n",
        "print(f\"\\nEste es el primer Nodo: {punto_entrada.data}\" )\n",
        "print(f\"\\nEste es el segundo Nodo: {punto_entrada.next.data}\")\n",
        "print(f\"\\nEste es el valor del tercer Nodo: {punto_entrada.next}\")"
      ],
      "execution_count": 5,
      "outputs": [
        {
          "output_type": "stream",
          "name": "stdout",
          "text": [
            "--- Primer método ---\n",
            "\n",
            "Este es el primer Nodo: 20\n",
            "\n",
            "Este es el segundo Nodo: 15\n",
            "\n",
            "El tercer Nodo es: None\n",
            "\n",
            "Representación del Nodo #2 en bloque: <__main__.Nodo object at 0x7f258a042290>\n",
            "\n",
            "---- Segundo método ---\n",
            "\n",
            "Este es el primer Nodo: 20\n",
            "\n",
            "Este es el segundo Nodo: 15\n",
            "\n",
            "Este es el valor del tercer Nodo: <__main__.Nodo object at 0x7f258a042a50>\n"
          ]
        }
      ]
    },
    {
      "cell_type": "code",
      "metadata": {
        "colab": {
          "base_uri": "https://localhost:8080/"
        },
        "id": "rj7bLDSnex-r",
        "outputId": "053c64c6-6348-4883-ac4a-498a1202b4b5"
      },
      "source": [
        "head3 = Nodo( 10, Nodo( 20, Nodo( 30 ) ) )\n",
        "print(f\"Este es el primer Nodo: {head3.data}\" )\n",
        "print(f\"\\nEste es el segundo Nodo: {head3.next.data}\")\n",
        "print(f\"\\nEste es el valor del tercer Nodo: {head3.next.next.data}\")"
      ],
      "execution_count": 9,
      "outputs": [
        {
          "output_type": "stream",
          "name": "stdout",
          "text": [
            "Este es el primer Nodo: 10\n",
            "\n",
            "Este es el segundo Nodo: 20\n",
            "\n",
            "Este es el valor del tercer Nodo: 30\n"
          ]
        }
      ]
    },
    {
      "cell_type": "code",
      "metadata": {
        "colab": {
          "base_uri": "https://localhost:8080/"
        },
        "id": "bIh3Kp-mf3MS",
        "outputId": "54df2ddd-3ebb-461f-fe3a-322ad4da1cf1"
      },
      "source": [
        "head4 = Nodo( 5, Nodo( 6, Nodo( 7, Nodo( 8, Nodo( 9 ) ) ) ) )\n",
        "print(f\"Este es el primer Nodo: {head4.data}\" )\n",
        "print(f\"\\nEste es el segundo Nodo: {head4.next.data}\")\n",
        "print(f\"\\nEste es el tercer Nodo: {head4.next.next.data}\")\n",
        "print(f\"\\nEste es el cuarto Nodo: {head4.next.next.next.data}\")\n",
        "print(f\"\\nEste es el quinto Nodo: {head4.next.next.next.next.data}\")"
      ],
      "execution_count": 10,
      "outputs": [
        {
          "output_type": "stream",
          "name": "stdout",
          "text": [
            "Este es el primer Nodo: 5\n",
            "\n",
            "Este es el segundo Nodo: 6\n",
            "\n",
            "Este es el tercer Nodo: 7\n",
            "\n",
            "Este es el cuarto Nodo: 8\n",
            "\n",
            "Este es el quinto Nodo: 9\n"
          ]
        }
      ]
    },
    {
      "cell_type": "markdown",
      "metadata": {
        "id": "aIzKdrD5giDN"
      },
      "source": [
        "# Recorrer una lista ligada dinamicamente\n"
      ]
    },
    {
      "cell_type": "code",
      "metadata": {
        "colab": {
          "base_uri": "https://localhost:8080/"
        },
        "id": "UxBoPLUFgluk",
        "outputId": "696214f6-73a8-4961-b78d-5320f7493d12"
      },
      "source": [
        "head5 = Nodo( 5, Nodo( 6, Nodo( 7, Nodo( 8, Nodo( 9 ) ) ) ) )\n",
        "curr_node = head5\n",
        "while curr_node != None:\n",
        "  print( curr_node.data )\n",
        "  curr_node = curr_node.next"
      ],
      "execution_count": 24,
      "outputs": [
        {
          "output_type": "stream",
          "name": "stdout",
          "text": [
            "5\n",
            "6\n",
            "7\n",
            "8\n",
            "9\n"
          ]
        }
      ]
    },
    {
      "cell_type": "code",
      "metadata": {
        "colab": {
          "base_uri": "https://localhost:8080/"
        },
        "id": "uSocnAUCi-8P",
        "outputId": "0591b95e-c21b-46e7-a972-a69125851d73"
      },
      "source": [
        "print(\"--- Primera lista sin modificación ---\\n\")\n",
        "head6 = Nodo( 5, Nodo( 6, Nodo( 7, Nodo( 8, Nodo( 9 ) ) ) ) )\n",
        "curr_node = head6\n",
        "while curr_node != None:\n",
        "  print( curr_node.data )\n",
        "  curr_node = curr_node.next\n",
        "curr_node = Nodo(10)\n",
        "\n",
        "print(\"\\n---Nueva lista agregando un 10 ---\\n\")\n",
        "curr_node = head6\n",
        "while curr_node.next != None:\n",
        "  curr_node = curr_node.next\n",
        "curr_node.next = Nodo(10)\n",
        "\n",
        "curr_node = head6\n",
        "while curr_node != None:\n",
        "  print( curr_node.data)\n",
        "  curr_node = curr_node.next"
      ],
      "execution_count": 25,
      "outputs": [
        {
          "output_type": "stream",
          "name": "stdout",
          "text": [
            "--- Primera lista sin modificación ---\n",
            "\n",
            "5\n",
            "6\n",
            "7\n",
            "8\n",
            "9\n",
            "\n",
            "---Nueva lista agregando un 10 ---\n",
            "\n",
            "5\n",
            "6\n",
            "7\n",
            "8\n",
            "9\n",
            "10\n"
          ]
        }
      ]
    },
    {
      "cell_type": "code",
      "metadata": {
        "colab": {
          "base_uri": "https://localhost:8080/"
        },
        "id": "4S4mVnnnmWuP",
        "outputId": "dabd9fa7-c985-46ce-9dd9-1784bbc5cc4f"
      },
      "source": [
        "class Nodo:\n",
        "  def __init__(self, value, siguiente = None):\n",
        "    self.data = value\n",
        "    self.next = siguiente\n",
        "\n",
        "class Linked_List_ADT:\n",
        "  def __init__( self ):\n",
        "    self.head = None\n",
        "  \n",
        "  def is_empty( self ):\n",
        "    return self.head == None\n",
        "\n",
        "  def get_tail( self ):\n",
        "    curr_node = self.head\n",
        "    if curr_node != None:\n",
        "      while curr_node.next != None:\n",
        "        curr_node = curr_node.next\n",
        "    return curr_node\n",
        "\n",
        "  def append( self, dato ):\n",
        "    if self.is_empty():\n",
        "      self.head = Nodo( dato )\n",
        "    else:\n",
        "      self.get_tail().next = Nodo( dato )\n",
        "  \n",
        "  def transversal(self):\n",
        "    curr_node = self.head\n",
        "    while curr_node != None:\n",
        "      print( curr_node.data , end = \" ---> \")\n",
        "      curr_node = curr_node.next\n",
        "\n",
        "def main():\n",
        "  lsl = Linked_List_ADT()\n",
        "  print( lsl.is_empty() )\n",
        "  nodo = lsl.get_tail()\n",
        "  print( nodo )\n",
        "  lsl.append(10)\n",
        "  lsl.append(20)\n",
        "  lsl.transversal()\n",
        "\n",
        "\n",
        "main()"
      ],
      "execution_count": 34,
      "outputs": [
        {
          "output_type": "stream",
          "name": "stdout",
          "text": [
            "True\n",
            "None\n",
            "10 ---> 20 ---> "
          ]
        }
      ]
    }
  ]
}